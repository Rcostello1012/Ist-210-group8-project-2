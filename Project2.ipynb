{
  "nbformat": 4,
  "nbformat_minor": 0,
  "metadata": {
    "colab": {
      "name": "Project2.ipynb",
      "provenance": []
    },
    "kernelspec": {
      "name": "python3",
      "display_name": "Python 3"
    }
  },
  "cells": [
    {
      "cell_type": "code",
      "metadata": {
        "id": "Lw5IqEgafjqt",
        "colab_type": "code",
        "colab": {}
      },
      "source": [
        ""
      ],
      "execution_count": 0,
      "outputs": []
    },
    {
      "cell_type": "markdown",
      "metadata": {
        "id": "1KRkJV_rfkOg",
        "colab_type": "text"
      },
      "source": [
        "For our Entity Diagram for our Restaurant idea, we have six tables. \n",
        "\n",
        "In these tables there are both primary and foreign keys along with other attributes to describe what is needed to know to make the diagram for the restaurant. The Customer table is connected to the Transaction table with the relationship “purchase”, meaning what the customer purchases shows up in the Transaction table. Both food (dish) and drink are the primary keys for their table, while they are foreign keys in the Order table. The Delivery table is connected to the Transaction table because delivery is an option for ordering at our restaurant. It may have a null value in the transaction table if the customer decides to do take-out ordering. Connected to the Order table is both the Food and Drink table, where they become the foreign keys in the Order table. The relationship between these tables is the Order table “contains” the food and drink numbers.  And connected to the Order table is the Transaction table, where the relationship is “has” because the Transaction table has the Order id. \n",
        "\n",
        "\n",
        "Each table has their own primary key that is a unique number. Customerid for the Customer table, BillNo. for the Transaction table, and so on. Also, in each table is the accompanying attributes that is relevant to the entity listed. In the Customer table, all that is listed is there to describe what is needed to know about the customer. The customers first name, last name, phone number, credit card number, and the delivery address. The tables are also connected by the relationships, connectivity, and cardinality. Between the Customer and Transaction tables, the connectivity and cardinality is one to many and one to one, meaning a customer can have many transactions, but only one bill number can go to a customer. \n",
        "Some constraints that our restaurant has is that customers will not be able to split checks. If a group orders, there will only be one check available. Another constraint is that the restaurant is mainly take out orders, with the choice of delivery. \n"
      ]
    },
    {
      "cell_type": "markdown",
      "metadata": {
        "id": "TnwzDyylfqt2",
        "colab_type": "text"
      },
      "source": [
        "![ER Diagram\n",
        "](https://github.com/Rcostello1012/Ist-210-group8-project-2/blob/master/Restaurant.png)"
      ]
    }
  ]
}